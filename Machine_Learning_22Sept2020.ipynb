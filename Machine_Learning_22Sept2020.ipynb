{
 "cells": [
  {
   "cell_type": "code",
   "execution_count": 1,
   "metadata": {},
   "outputs": [],
   "source": [
    "import xgboost as xgb"
   ]
  },
  {
   "cell_type": "code",
   "execution_count": 2,
   "metadata": {},
   "outputs": [],
   "source": [
    "from sklearn import datasets\n",
    "\n",
    "iris= datasets.load_iris()\n",
    "\n",
    "X = iris.data\n",
    "y = iris.target"
   ]
  },
  {
   "cell_type": "code",
   "execution_count": 3,
   "metadata": {},
   "outputs": [],
   "source": [
    "from sklearn.model_selection import train_test_split\n",
    "\n",
    "X_train,X_test,y_train,y_test=train_test_split(X,y,test_size=0.3,random_state=21)"
   ]
  },
  {
   "cell_type": "markdown",
   "metadata": {},
   "source": [
    "For XGBoost to run efficiently, we have to convert our dataset to DMatrix format\n",
    "#Dmatrix format is data structure unique for xgboost algorithm"
   ]
  },
  {
   "cell_type": "code",
   "execution_count": 4,
   "metadata": {},
   "outputs": [],
   "source": [
    "D_train = xgb.DMatrix(X_train,label=y_train)\n",
    "D_test = xgb.DMatrix(X_test)"
   ]
  },
  {
   "cell_type": "code",
   "execution_count": 5,
   "metadata": {},
   "outputs": [],
   "source": [
    "#intialize set of parameters\n",
    "\n",
    "param={'eta':0.02,'max_depth':4,'objective':'multi:softmax','num_class':3}"
   ]
  },
  {
   "cell_type": "code",
   "execution_count": 6,
   "metadata": {},
   "outputs": [],
   "source": [
    "xgb_model = xgb.train(param, D_train,20)"
   ]
  },
  {
   "cell_type": "code",
   "execution_count": 7,
   "metadata": {},
   "outputs": [],
   "source": [
    "y_xgb_pred = xgb_model.predict(D_test)"
   ]
  },
  {
   "cell_type": "code",
   "execution_count": 9,
   "metadata": {},
   "outputs": [
    {
     "name": "stdout",
     "output_type": "stream",
     "text": [
      "Accuracy for XGB on iris dataset:  0.9111111111111111\n"
     ]
    }
   ],
   "source": [
    "from sklearn.metrics import accuracy_score\n",
    "\n",
    "print('Accuracy for XGB on iris dataset: ',accuracy_score(y_test,y_xgb_pred))"
   ]
  },
  {
   "cell_type": "code",
   "execution_count": 10,
   "metadata": {},
   "outputs": [
    {
     "name": "stdout",
     "output_type": "stream",
     "text": [
      "Accuracy for XGB on iris dataset:  0.9333333333333333\n"
     ]
    }
   ],
   "source": [
    "#intialize set of parameters\n",
    "\n",
    "param2={'eta':0.3,'max_depth':3,'objective':'multi:softmax','num_class':3}\n",
    "xgb_model2 = xgb.train(param2, D_train,20)\n",
    "y_xgb_pred2 = xgb_model2.predict(D_test)\n",
    "\n",
    "print('Accuracy for XGB on iris dataset: ',accuracy_score(y_test,y_xgb_pred2))"
   ]
  },
  {
   "cell_type": "markdown",
   "metadata": {},
   "source": [
    "## K-Fold Cross Validation"
   ]
  },
  {
   "cell_type": "code",
   "execution_count": 12,
   "metadata": {},
   "outputs": [],
   "source": [
    "from sklearn.model_selection import cross_val_score\n",
    "from sklearn.neighbors import KNeighborsClassifier\n",
    "\n",
    "knn_model=KNeighborsClassifier(n_neighbors=4)"
   ]
  },
  {
   "cell_type": "code",
   "execution_count": 13,
   "metadata": {},
   "outputs": [
    {
     "data": {
      "text/plain": [
       "0.9666666666666666"
      ]
     },
     "execution_count": 13,
     "metadata": {},
     "output_type": "execute_result"
    }
   ],
   "source": [
    "cross_val_score(knn_model,X,y, cv=10,scoring='accuracy').mean()"
   ]
  },
  {
   "cell_type": "code",
   "execution_count": 14,
   "metadata": {},
   "outputs": [
    {
     "data": {
      "text/plain": [
       "0.9733333333333334"
      ]
     },
     "execution_count": 14,
     "metadata": {},
     "output_type": "execute_result"
    }
   ],
   "source": [
    "cross_val_score(knn_model,X,y, cv=5,scoring='accuracy').mean()"
   ]
  },
  {
   "cell_type": "code",
   "execution_count": 15,
   "metadata": {},
   "outputs": [
    {
     "name": "stderr",
     "output_type": "stream",
     "text": [
      "C:\\Users\\Home\\anaconda3\\lib\\site-packages\\sklearn\\linear_model\\_logistic.py:940: ConvergenceWarning: lbfgs failed to converge (status=1):\n",
      "STOP: TOTAL NO. of ITERATIONS REACHED LIMIT.\n",
      "\n",
      "Increase the number of iterations (max_iter) or scale the data as shown in:\n",
      "    https://scikit-learn.org/stable/modules/preprocessing.html\n",
      "Please also refer to the documentation for alternative solver options:\n",
      "    https://scikit-learn.org/stable/modules/linear_model.html#logistic-regression\n",
      "  extra_warning_msg=_LOGISTIC_SOLVER_CONVERGENCE_MSG)\n",
      "C:\\Users\\Home\\anaconda3\\lib\\site-packages\\sklearn\\linear_model\\_logistic.py:940: ConvergenceWarning: lbfgs failed to converge (status=1):\n",
      "STOP: TOTAL NO. of ITERATIONS REACHED LIMIT.\n",
      "\n",
      "Increase the number of iterations (max_iter) or scale the data as shown in:\n",
      "    https://scikit-learn.org/stable/modules/preprocessing.html\n",
      "Please also refer to the documentation for alternative solver options:\n",
      "    https://scikit-learn.org/stable/modules/linear_model.html#logistic-regression\n",
      "  extra_warning_msg=_LOGISTIC_SOLVER_CONVERGENCE_MSG)\n"
     ]
    },
    {
     "data": {
      "text/plain": [
       "0.9671052631578947"
      ]
     },
     "execution_count": 15,
     "metadata": {},
     "output_type": "execute_result"
    }
   ],
   "source": [
    "from sklearn.linear_model import LogisticRegression\n",
    "\n",
    "logreg = LogisticRegression()\n",
    "cross_val_score(logreg,X,y, cv=8,scoring='accuracy').mean()"
   ]
  },
  {
   "cell_type": "markdown",
   "metadata": {},
   "source": [
    "## GridSearch CV - to tune Hyperparameters"
   ]
  },
  {
   "cell_type": "code",
   "execution_count": 17,
   "metadata": {},
   "outputs": [],
   "source": [
    "from sklearn.model_selection import GridSearchCV\n",
    "\n",
    "knn_gscv=KNeighborsClassifier()\n",
    "\n",
    "params = {'n_neighbors':[5,6,10,15,25],\n",
    "          'weights':['uniform','distance'],\n",
    "          'algorithm':['auto','ball_tree','kd_tree','brute']}\n",
    "\n",
    "grid=GridSearchCV(estimator=knn_gscv,param_grid=params,n_jobs=-1, cv=5,scoring='accuracy')\n",
    "\n",
    "X_train,X_test,y_train,y_test=train_test_split(X,y,test_size=0.2,random_state=21)\n",
    "\n",
    "grid_result=grid.fit(X_train,y_train)"
   ]
  },
  {
   "cell_type": "code",
   "execution_count": 19,
   "metadata": {},
   "outputs": [
    {
     "name": "stdout",
     "output_type": "stream",
     "text": [
      "{'algorithm': 'auto', 'n_neighbors': 5, 'weights': 'uniform'}\n"
     ]
    }
   ],
   "source": [
    "print(grid.best_params_)"
   ]
  },
  {
   "cell_type": "code",
   "execution_count": 20,
   "metadata": {},
   "outputs": [
    {
     "name": "stdout",
     "output_type": "stream",
     "text": [
      "0.9916666666666668\n"
     ]
    }
   ],
   "source": [
    "print(grid.best_score_)"
   ]
  },
  {
   "cell_type": "code",
   "execution_count": 27,
   "metadata": {},
   "outputs": [
    {
     "data": {
      "text/plain": [
       "{'mean_fit_time': array([0.        , 0.        , 0.        , 0.        , 0.        ,\n",
       "        0.        , 0.00200081, 0.        , 0.        , 0.        ,\n",
       "        0.00937438, 0.00312486, 0.00312486, 0.00312467, 0.        ,\n",
       "        0.        , 0.        , 0.        , 0.        , 0.        ,\n",
       "        0.        , 0.        , 0.        , 0.        , 0.        ,\n",
       "        0.        , 0.        , 0.        , 0.        , 0.        ,\n",
       "        0.        , 0.        , 0.        , 0.        , 0.        ,\n",
       "        0.        , 0.        , 0.        , 0.        , 0.        ]),\n",
       " 'std_fit_time': array([0.        , 0.        , 0.        , 0.        , 0.        ,\n",
       "        0.        , 0.00400162, 0.        , 0.        , 0.        ,\n",
       "        0.00765415, 0.00624971, 0.00624971, 0.00624933, 0.        ,\n",
       "        0.        , 0.        , 0.        , 0.        , 0.        ,\n",
       "        0.        , 0.        , 0.        , 0.        , 0.        ,\n",
       "        0.        , 0.        , 0.        , 0.        , 0.        ,\n",
       "        0.        , 0.        , 0.        , 0.        , 0.        ,\n",
       "        0.        , 0.        , 0.        , 0.        , 0.        ]),\n",
       " 'mean_score_time': array([0.00200725, 0.00320797, 0.00080652, 0.00200796, 0.00160394,\n",
       "        0.        , 0.00200081, 0.        , 0.        , 0.00312595,\n",
       "        0.        , 0.        , 0.        , 0.        , 0.        ,\n",
       "        0.        , 0.00312486, 0.00312486, 0.00312486, 0.        ,\n",
       "        0.00312486, 0.        , 0.00312467, 0.        , 0.        ,\n",
       "        0.        , 0.        , 0.0031249 , 0.00755115, 0.00130134,\n",
       "        0.00625191, 0.00312595, 0.        , 0.        , 0.00312476,\n",
       "        0.        , 0.00624952, 0.        , 0.        , 0.0031249 ]),\n",
       " 'std_score_time': array([0.00401449, 0.00392894, 0.00098778, 0.00310777, 0.00320787,\n",
       "        0.        , 0.00400162, 0.        , 0.        , 0.00625191,\n",
       "        0.        , 0.        , 0.        , 0.        , 0.        ,\n",
       "        0.        , 0.00624971, 0.00624971, 0.00624971, 0.        ,\n",
       "        0.00624971, 0.        , 0.00624933, 0.        , 0.        ,\n",
       "        0.        , 0.        , 0.00624981, 0.00947435, 0.00260267,\n",
       "        0.00765699, 0.00625191, 0.        , 0.        , 0.00624952,\n",
       "        0.        , 0.00765407, 0.        , 0.        , 0.00624981]),\n",
       " 'param_algorithm': masked_array(data=['auto', 'auto', 'auto', 'auto', 'auto', 'auto', 'auto',\n",
       "                    'auto', 'auto', 'auto', 'ball_tree', 'ball_tree',\n",
       "                    'ball_tree', 'ball_tree', 'ball_tree', 'ball_tree',\n",
       "                    'ball_tree', 'ball_tree', 'ball_tree', 'ball_tree',\n",
       "                    'kd_tree', 'kd_tree', 'kd_tree', 'kd_tree', 'kd_tree',\n",
       "                    'kd_tree', 'kd_tree', 'kd_tree', 'kd_tree', 'kd_tree',\n",
       "                    'brute', 'brute', 'brute', 'brute', 'brute', 'brute',\n",
       "                    'brute', 'brute', 'brute', 'brute'],\n",
       "              mask=[False, False, False, False, False, False, False, False,\n",
       "                    False, False, False, False, False, False, False, False,\n",
       "                    False, False, False, False, False, False, False, False,\n",
       "                    False, False, False, False, False, False, False, False,\n",
       "                    False, False, False, False, False, False, False, False],\n",
       "        fill_value='?',\n",
       "             dtype=object),\n",
       " 'param_n_neighbors': masked_array(data=[5, 5, 6, 6, 10, 10, 15, 15, 25, 25, 5, 5, 6, 6, 10, 10,\n",
       "                    15, 15, 25, 25, 5, 5, 6, 6, 10, 10, 15, 15, 25, 25, 5,\n",
       "                    5, 6, 6, 10, 10, 15, 15, 25, 25],\n",
       "              mask=[False, False, False, False, False, False, False, False,\n",
       "                    False, False, False, False, False, False, False, False,\n",
       "                    False, False, False, False, False, False, False, False,\n",
       "                    False, False, False, False, False, False, False, False,\n",
       "                    False, False, False, False, False, False, False, False],\n",
       "        fill_value='?',\n",
       "             dtype=object),\n",
       " 'param_weights': masked_array(data=['uniform', 'distance', 'uniform', 'distance',\n",
       "                    'uniform', 'distance', 'uniform', 'distance',\n",
       "                    'uniform', 'distance', 'uniform', 'distance',\n",
       "                    'uniform', 'distance', 'uniform', 'distance',\n",
       "                    'uniform', 'distance', 'uniform', 'distance',\n",
       "                    'uniform', 'distance', 'uniform', 'distance',\n",
       "                    'uniform', 'distance', 'uniform', 'distance',\n",
       "                    'uniform', 'distance', 'uniform', 'distance',\n",
       "                    'uniform', 'distance', 'uniform', 'distance',\n",
       "                    'uniform', 'distance', 'uniform', 'distance'],\n",
       "              mask=[False, False, False, False, False, False, False, False,\n",
       "                    False, False, False, False, False, False, False, False,\n",
       "                    False, False, False, False, False, False, False, False,\n",
       "                    False, False, False, False, False, False, False, False,\n",
       "                    False, False, False, False, False, False, False, False],\n",
       "        fill_value='?',\n",
       "             dtype=object),\n",
       " 'params': [{'algorithm': 'auto', 'n_neighbors': 5, 'weights': 'uniform'},\n",
       "  {'algorithm': 'auto', 'n_neighbors': 5, 'weights': 'distance'},\n",
       "  {'algorithm': 'auto', 'n_neighbors': 6, 'weights': 'uniform'},\n",
       "  {'algorithm': 'auto', 'n_neighbors': 6, 'weights': 'distance'},\n",
       "  {'algorithm': 'auto', 'n_neighbors': 10, 'weights': 'uniform'},\n",
       "  {'algorithm': 'auto', 'n_neighbors': 10, 'weights': 'distance'},\n",
       "  {'algorithm': 'auto', 'n_neighbors': 15, 'weights': 'uniform'},\n",
       "  {'algorithm': 'auto', 'n_neighbors': 15, 'weights': 'distance'},\n",
       "  {'algorithm': 'auto', 'n_neighbors': 25, 'weights': 'uniform'},\n",
       "  {'algorithm': 'auto', 'n_neighbors': 25, 'weights': 'distance'},\n",
       "  {'algorithm': 'ball_tree', 'n_neighbors': 5, 'weights': 'uniform'},\n",
       "  {'algorithm': 'ball_tree', 'n_neighbors': 5, 'weights': 'distance'},\n",
       "  {'algorithm': 'ball_tree', 'n_neighbors': 6, 'weights': 'uniform'},\n",
       "  {'algorithm': 'ball_tree', 'n_neighbors': 6, 'weights': 'distance'},\n",
       "  {'algorithm': 'ball_tree', 'n_neighbors': 10, 'weights': 'uniform'},\n",
       "  {'algorithm': 'ball_tree', 'n_neighbors': 10, 'weights': 'distance'},\n",
       "  {'algorithm': 'ball_tree', 'n_neighbors': 15, 'weights': 'uniform'},\n",
       "  {'algorithm': 'ball_tree', 'n_neighbors': 15, 'weights': 'distance'},\n",
       "  {'algorithm': 'ball_tree', 'n_neighbors': 25, 'weights': 'uniform'},\n",
       "  {'algorithm': 'ball_tree', 'n_neighbors': 25, 'weights': 'distance'},\n",
       "  {'algorithm': 'kd_tree', 'n_neighbors': 5, 'weights': 'uniform'},\n",
       "  {'algorithm': 'kd_tree', 'n_neighbors': 5, 'weights': 'distance'},\n",
       "  {'algorithm': 'kd_tree', 'n_neighbors': 6, 'weights': 'uniform'},\n",
       "  {'algorithm': 'kd_tree', 'n_neighbors': 6, 'weights': 'distance'},\n",
       "  {'algorithm': 'kd_tree', 'n_neighbors': 10, 'weights': 'uniform'},\n",
       "  {'algorithm': 'kd_tree', 'n_neighbors': 10, 'weights': 'distance'},\n",
       "  {'algorithm': 'kd_tree', 'n_neighbors': 15, 'weights': 'uniform'},\n",
       "  {'algorithm': 'kd_tree', 'n_neighbors': 15, 'weights': 'distance'},\n",
       "  {'algorithm': 'kd_tree', 'n_neighbors': 25, 'weights': 'uniform'},\n",
       "  {'algorithm': 'kd_tree', 'n_neighbors': 25, 'weights': 'distance'},\n",
       "  {'algorithm': 'brute', 'n_neighbors': 5, 'weights': 'uniform'},\n",
       "  {'algorithm': 'brute', 'n_neighbors': 5, 'weights': 'distance'},\n",
       "  {'algorithm': 'brute', 'n_neighbors': 6, 'weights': 'uniform'},\n",
       "  {'algorithm': 'brute', 'n_neighbors': 6, 'weights': 'distance'},\n",
       "  {'algorithm': 'brute', 'n_neighbors': 10, 'weights': 'uniform'},\n",
       "  {'algorithm': 'brute', 'n_neighbors': 10, 'weights': 'distance'},\n",
       "  {'algorithm': 'brute', 'n_neighbors': 15, 'weights': 'uniform'},\n",
       "  {'algorithm': 'brute', 'n_neighbors': 15, 'weights': 'distance'},\n",
       "  {'algorithm': 'brute', 'n_neighbors': 25, 'weights': 'uniform'},\n",
       "  {'algorithm': 'brute', 'n_neighbors': 25, 'weights': 'distance'}],\n",
       " 'split0_test_score': array([1.        , 1.        , 0.95833333, 1.        , 0.91666667,\n",
       "        1.        , 0.95833333, 0.95833333, 0.95833333, 1.        ,\n",
       "        1.        , 1.        , 0.95833333, 1.        , 0.91666667,\n",
       "        1.        , 0.95833333, 0.95833333, 0.95833333, 1.        ,\n",
       "        1.        , 1.        , 0.95833333, 1.        , 0.91666667,\n",
       "        1.        , 0.95833333, 0.95833333, 0.95833333, 1.        ,\n",
       "        1.        , 1.        , 0.95833333, 1.        , 0.91666667,\n",
       "        1.        , 0.95833333, 0.95833333, 0.95833333, 1.        ]),\n",
       " 'split1_test_score': array([0.95833333, 0.95833333, 0.91666667, 0.95833333, 0.91666667,\n",
       "        0.95833333, 0.91666667, 0.95833333, 0.95833333, 0.95833333,\n",
       "        0.95833333, 0.95833333, 0.91666667, 0.95833333, 0.91666667,\n",
       "        0.95833333, 0.91666667, 0.95833333, 0.95833333, 0.95833333,\n",
       "        0.95833333, 0.95833333, 0.91666667, 0.95833333, 0.91666667,\n",
       "        0.95833333, 0.91666667, 0.95833333, 0.95833333, 0.95833333,\n",
       "        0.95833333, 0.95833333, 0.91666667, 0.95833333, 0.91666667,\n",
       "        0.95833333, 0.91666667, 0.95833333, 0.95833333, 0.95833333]),\n",
       " 'split2_test_score': array([1., 1., 1., 1., 1., 1., 1., 1., 1., 1., 1., 1., 1., 1., 1., 1., 1.,\n",
       "        1., 1., 1., 1., 1., 1., 1., 1., 1., 1., 1., 1., 1., 1., 1., 1., 1.,\n",
       "        1., 1., 1., 1., 1., 1.]),\n",
       " 'split3_test_score': array([1., 1., 1., 1., 1., 1., 1., 1., 1., 1., 1., 1., 1., 1., 1., 1., 1.,\n",
       "        1., 1., 1., 1., 1., 1., 1., 1., 1., 1., 1., 1., 1., 1., 1., 1., 1.,\n",
       "        1., 1., 1., 1., 1., 1.]),\n",
       " 'split4_test_score': array([1.        , 1.        , 1.        , 1.        , 1.        ,\n",
       "        1.        , 1.        , 1.        , 0.91666667, 1.        ,\n",
       "        1.        , 1.        , 1.        , 1.        , 1.        ,\n",
       "        1.        , 1.        , 1.        , 0.91666667, 1.        ,\n",
       "        1.        , 1.        , 1.        , 1.        , 1.        ,\n",
       "        1.        , 1.        , 1.        , 0.91666667, 1.        ,\n",
       "        1.        , 1.        , 1.        , 1.        , 1.        ,\n",
       "        1.        , 1.        , 1.        , 0.95833333, 1.        ]),\n",
       " 'mean_test_score': array([0.99166667, 0.99166667, 0.975     , 0.99166667, 0.96666667,\n",
       "        0.99166667, 0.975     , 0.98333333, 0.96666667, 0.99166667,\n",
       "        0.99166667, 0.99166667, 0.975     , 0.99166667, 0.96666667,\n",
       "        0.99166667, 0.975     , 0.98333333, 0.96666667, 0.99166667,\n",
       "        0.99166667, 0.99166667, 0.975     , 0.99166667, 0.96666667,\n",
       "        0.99166667, 0.975     , 0.98333333, 0.96666667, 0.99166667,\n",
       "        0.99166667, 0.99166667, 0.975     , 0.99166667, 0.96666667,\n",
       "        0.99166667, 0.975     , 0.98333333, 0.975     , 0.99166667]),\n",
       " 'std_test_score': array([0.01666667, 0.01666667, 0.03333333, 0.01666667, 0.04082483,\n",
       "        0.01666667, 0.03333333, 0.02041241, 0.03118048, 0.01666667,\n",
       "        0.01666667, 0.01666667, 0.03333333, 0.01666667, 0.04082483,\n",
       "        0.01666667, 0.03333333, 0.02041241, 0.03118048, 0.01666667,\n",
       "        0.01666667, 0.01666667, 0.03333333, 0.01666667, 0.04082483,\n",
       "        0.01666667, 0.03333333, 0.02041241, 0.03118048, 0.01666667,\n",
       "        0.01666667, 0.01666667, 0.03333333, 0.01666667, 0.04082483,\n",
       "        0.01666667, 0.03333333, 0.02041241, 0.02041241, 0.01666667]),\n",
       " 'rank_test_score': array([ 1,  1, 25,  1, 37,  1, 25, 21, 34,  1,  1,  1, 25,  1, 37,  1, 25,\n",
       "        21, 34,  1,  1,  1, 25,  1, 37,  1, 25, 21, 34,  1,  1,  1, 25,  1,\n",
       "        37,  1, 25, 21, 25,  1])}"
      ]
     },
     "execution_count": 27,
     "metadata": {},
     "output_type": "execute_result"
    }
   ],
   "source": [
    "grid.cv_results_"
   ]
  },
  {
   "cell_type": "code",
   "execution_count": null,
   "metadata": {},
   "outputs": [],
   "source": []
  }
 ],
 "metadata": {
  "kernelspec": {
   "display_name": "Python 3",
   "language": "python",
   "name": "python3"
  },
  "language_info": {
   "codemirror_mode": {
    "name": "ipython",
    "version": 3
   },
   "file_extension": ".py",
   "mimetype": "text/x-python",
   "name": "python",
   "nbconvert_exporter": "python",
   "pygments_lexer": "ipython3",
   "version": "3.7.6"
  },
  "latex_envs": {
   "LaTeX_envs_menu_present": true,
   "autoclose": false,
   "autocomplete": true,
   "bibliofile": "biblio.bib",
   "cite_by": "apalike",
   "current_citInitial": 1,
   "eqLabelWithNumbers": true,
   "eqNumInitial": 1,
   "hotkeys": {
    "equation": "Ctrl-E",
    "itemize": "Ctrl-I"
   },
   "labels_anchors": false,
   "latex_user_defs": false,
   "report_style_numbering": false,
   "user_envs_cfg": false
  },
  "toc": {
   "base_numbering": 1,
   "nav_menu": {},
   "number_sections": true,
   "sideBar": true,
   "skip_h1_title": false,
   "title_cell": "Table of Contents",
   "title_sidebar": "Contents",
   "toc_cell": false,
   "toc_position": {},
   "toc_section_display": true,
   "toc_window_display": false
  }
 },
 "nbformat": 4,
 "nbformat_minor": 4
}
